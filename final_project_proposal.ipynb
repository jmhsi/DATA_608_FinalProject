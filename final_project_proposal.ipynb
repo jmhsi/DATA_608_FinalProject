{
 "cells": [
  {
   "cell_type": "code",
   "execution_count": null,
   "metadata": {},
   "outputs": [],
   "source": [
    "'''\n",
    "Links to data source:\n",
    "original data https://www1.nyc.gov/site/tlc/about/tlc-trip-record-data.page\n",
    "processed with script in https://github.com/holoviz/datashader/tree/master/examples\n",
    "\n",
    "I am considering re-running the script on new data from the original site\n",
    "since I see they have data for 2019. I may also try and combine\n",
    "yellow taxi and green taxi data.\n",
    "\n",
    "I would like to do more analysis on this dataset with datashader, and then\n",
    "try and get interactivity witht he holoviews + bokeh approach.\n",
    "\n",
    "Specifically, I think the there could be interesting relationships to investigate\n",
    "between fare, payment type, tip amount, and distance traveled. I also\n",
    "think using the vendorid category could be interesting and might show\n",
    "something about where certain vendors (taxi businesses?) operate.\n",
    "\n",
    "In terms of business, I'm considering looking at maybe a few years\n",
    "of data, and giving the option to filter by year. Maybe we can see how fares\n",
    "or number of rides are changing (maybe due to things like competition from\n",
    "rideshar).\n",
    "'''"
   ]
  }
 ],
 "metadata": {
  "kernelspec": {
   "display_name": "Python 3",
   "language": "python",
   "name": "python3"
  },
  "language_info": {
   "codemirror_mode": {
    "name": "ipython",
    "version": 3
   },
   "file_extension": ".py",
   "mimetype": "text/x-python",
   "name": "python",
   "nbconvert_exporter": "python",
   "pygments_lexer": "ipython3",
   "version": "3.7.3"
  }
 },
 "nbformat": 4,
 "nbformat_minor": 2
}
